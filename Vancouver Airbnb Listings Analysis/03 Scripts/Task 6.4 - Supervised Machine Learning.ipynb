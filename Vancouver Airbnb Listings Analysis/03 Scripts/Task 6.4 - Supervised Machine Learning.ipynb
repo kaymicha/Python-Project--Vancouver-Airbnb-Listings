{
 "cells": [
  {
   "cell_type": "markdown",
   "id": "6d834326",
   "metadata": {},
   "source": [
    "# Task 6.4 - Supervised Machine Learning"
   ]
  },
  {
   "cell_type": "markdown",
   "id": "e9ae4195",
   "metadata": {},
   "source": [
    "This notebook contains steps in order to prepare for Linear Regression modelling:\n",
    "1. Installing sklearn\n",
    "2. Scatterplot exploration to determine hypothesis\n",
    "3. Re-shaping data for linear regresson\n",
    "4. Splitting data into training and test sets\n",
    "5. Running linear regression\n",
    "6. Checking model performance"
   ]
  },
  {
   "cell_type": "markdown",
   "id": "e995f44f",
   "metadata": {},
   "source": [
    "## Task Step 1 & 2 - Install and Import of Libraries"
   ]
  },
  {
   "cell_type": "code",
   "execution_count": 1,
   "id": "fa6b4d22",
   "metadata": {},
   "outputs": [],
   "source": [
    "import pandas as pd\n",
    "import numpy as np\n",
    "import seaborn as sns\n",
    "import matplotlib\n",
    "import matplotlib.pyplot as plt\n",
    "import os\n",
    "import sklearn\n",
    "from sklearn.model_selection import train_test_split \n",
    "from sklearn.linear_model import LinearRegression\n",
    "from sklearn.metrics import mean_squared_error, r2_score"
   ]
  },
  {
   "cell_type": "code",
   "execution_count": 2,
   "id": "7070eb4a",
   "metadata": {},
   "outputs": [],
   "source": [
    "# Display graphs\n",
    "%matplotlib inline"
   ]
  },
  {
   "cell_type": "code",
   "execution_count": 3,
   "id": "05f6ba09",
   "metadata": {},
   "outputs": [],
   "source": [
    "# Define path\n",
    "path = 'C:/Users/kaymi/OneDrive/Desktop/Career Foundry/Data Immersion/Achievement 6 - Advanced Data Analytics'"
   ]
  },
  {
   "cell_type": "code",
   "execution_count": 4,
   "id": "9b9bf736",
   "metadata": {},
   "outputs": [],
   "source": [
    "# Import prepared data (vacation rentals under $1,000 per nights)\n",
    "df = pd.read_csv(os.path.join(path, '02 Data', 'Prepared Data', 'vacation_listings_subset.csv'))"
   ]
  },
  {
   "cell_type": "code",
   "execution_count": 5,
   "id": "824b980b",
   "metadata": {},
   "outputs": [
    {
     "data": {
      "text/html": [
       "<div>\n",
       "<style scoped>\n",
       "    .dataframe tbody tr th:only-of-type {\n",
       "        vertical-align: middle;\n",
       "    }\n",
       "\n",
       "    .dataframe tbody tr th {\n",
       "        vertical-align: top;\n",
       "    }\n",
       "\n",
       "    .dataframe thead th {\n",
       "        text-align: right;\n",
       "    }\n",
       "</style>\n",
       "<table border=\"1\" class=\"dataframe\">\n",
       "  <thead>\n",
       "    <tr style=\"text-align: right;\">\n",
       "      <th></th>\n",
       "      <th>Unnamed: 0.1</th>\n",
       "      <th>Unnamed: 0</th>\n",
       "      <th>listing_id</th>\n",
       "      <th>listing_name</th>\n",
       "      <th>host_id</th>\n",
       "      <th>host_name</th>\n",
       "      <th>neighbourhood</th>\n",
       "      <th>latitude</th>\n",
       "      <th>longitude</th>\n",
       "      <th>room_type</th>\n",
       "      <th>...</th>\n",
       "      <th>number_of_reviews</th>\n",
       "      <th>last_review</th>\n",
       "      <th>reviews_per_month</th>\n",
       "      <th>calculated_host_listings_count</th>\n",
       "      <th>availability_365</th>\n",
       "      <th>number_of_reviews_ltm</th>\n",
       "      <th>rental_type</th>\n",
       "      <th>price_category</th>\n",
       "      <th>booking_requirement</th>\n",
       "      <th>popularity</th>\n",
       "    </tr>\n",
       "  </thead>\n",
       "  <tbody>\n",
       "    <tr>\n",
       "      <th>0</th>\n",
       "      <td>0</td>\n",
       "      <td>0</td>\n",
       "      <td>13188</td>\n",
       "      <td>Rental unit in Vancouver · ★4.83 · Studio · 2 ...</td>\n",
       "      <td>51466</td>\n",
       "      <td>Family Guns</td>\n",
       "      <td>Riley Park</td>\n",
       "      <td>49.24773</td>\n",
       "      <td>-123.10509</td>\n",
       "      <td>Entire home/apt</td>\n",
       "      <td>...</td>\n",
       "      <td>260</td>\n",
       "      <td>2023-06-01</td>\n",
       "      <td>1.61</td>\n",
       "      <td>2</td>\n",
       "      <td>150</td>\n",
       "      <td>4</td>\n",
       "      <td>Vacation Rental</td>\n",
       "      <td>mid-price</td>\n",
       "      <td>less than 1 week</td>\n",
       "      <td>booked half year</td>\n",
       "    </tr>\n",
       "    <tr>\n",
       "      <th>1</th>\n",
       "      <td>1</td>\n",
       "      <td>1</td>\n",
       "      <td>13358</td>\n",
       "      <td>Condo in Vancouver · ★4.68 · 1 bedroom · 1 bed...</td>\n",
       "      <td>52116</td>\n",
       "      <td>Lynn</td>\n",
       "      <td>West End</td>\n",
       "      <td>49.28201</td>\n",
       "      <td>-123.12669</td>\n",
       "      <td>Entire home/apt</td>\n",
       "      <td>...</td>\n",
       "      <td>454</td>\n",
       "      <td>2023-05-22</td>\n",
       "      <td>2.88</td>\n",
       "      <td>1</td>\n",
       "      <td>247</td>\n",
       "      <td>19</td>\n",
       "      <td>Vacation Rental</td>\n",
       "      <td>mid-price</td>\n",
       "      <td>less than 1 week</td>\n",
       "      <td>available half year</td>\n",
       "    </tr>\n",
       "    <tr>\n",
       "      <th>2</th>\n",
       "      <td>2</td>\n",
       "      <td>2</td>\n",
       "      <td>13490</td>\n",
       "      <td>Rental unit in Vancouver · ★4.92 · 1 bedroom ·...</td>\n",
       "      <td>52467</td>\n",
       "      <td>Iris</td>\n",
       "      <td>Kensington-Cedar Cottage</td>\n",
       "      <td>49.25622</td>\n",
       "      <td>-123.06607</td>\n",
       "      <td>Entire home/apt</td>\n",
       "      <td>...</td>\n",
       "      <td>98</td>\n",
       "      <td>2023-05-01</td>\n",
       "      <td>0.67</td>\n",
       "      <td>1</td>\n",
       "      <td>121</td>\n",
       "      <td>5</td>\n",
       "      <td>Vacation Rental</td>\n",
       "      <td>mid-price</td>\n",
       "      <td>over 3 weeks</td>\n",
       "      <td>booked half year</td>\n",
       "    </tr>\n",
       "    <tr>\n",
       "      <th>3</th>\n",
       "      <td>3</td>\n",
       "      <td>3</td>\n",
       "      <td>14267</td>\n",
       "      <td>Home in Vancouver · ★4.76 · 1 bedroom · 2 beds...</td>\n",
       "      <td>56030</td>\n",
       "      <td>Peter &amp; Alison</td>\n",
       "      <td>Kensington-Cedar Cottage</td>\n",
       "      <td>49.24922</td>\n",
       "      <td>-123.08139</td>\n",
       "      <td>Entire home/apt</td>\n",
       "      <td>...</td>\n",
       "      <td>34</td>\n",
       "      <td>2021-07-14</td>\n",
       "      <td>0.22</td>\n",
       "      <td>1</td>\n",
       "      <td>0</td>\n",
       "      <td>0</td>\n",
       "      <td>Vacation Rental</td>\n",
       "      <td>mid-price</td>\n",
       "      <td>less than 1 week</td>\n",
       "      <td>popular</td>\n",
       "    </tr>\n",
       "    <tr>\n",
       "      <th>4</th>\n",
       "      <td>4</td>\n",
       "      <td>4</td>\n",
       "      <td>14424</td>\n",
       "      <td>Guest suite in Vancouver · ★4.69 · 1 bedroom ·...</td>\n",
       "      <td>56709</td>\n",
       "      <td>Samantha Jo</td>\n",
       "      <td>Downtown Eastside</td>\n",
       "      <td>49.27921</td>\n",
       "      <td>-123.08835</td>\n",
       "      <td>Entire home/apt</td>\n",
       "      <td>...</td>\n",
       "      <td>266</td>\n",
       "      <td>2023-05-25</td>\n",
       "      <td>1.64</td>\n",
       "      <td>4</td>\n",
       "      <td>187</td>\n",
       "      <td>7</td>\n",
       "      <td>Vacation Rental</td>\n",
       "      <td>low price</td>\n",
       "      <td>over 3 weeks</td>\n",
       "      <td>available half year</td>\n",
       "    </tr>\n",
       "  </tbody>\n",
       "</table>\n",
       "<p>5 rows × 22 columns</p>\n",
       "</div>"
      ],
      "text/plain": [
       "   Unnamed: 0.1  Unnamed: 0  listing_id  \\\n",
       "0             0           0       13188   \n",
       "1             1           1       13358   \n",
       "2             2           2       13490   \n",
       "3             3           3       14267   \n",
       "4             4           4       14424   \n",
       "\n",
       "                                        listing_name  host_id       host_name  \\\n",
       "0  Rental unit in Vancouver · ★4.83 · Studio · 2 ...    51466     Family Guns   \n",
       "1  Condo in Vancouver · ★4.68 · 1 bedroom · 1 bed...    52116            Lynn   \n",
       "2  Rental unit in Vancouver · ★4.92 · 1 bedroom ·...    52467            Iris   \n",
       "3  Home in Vancouver · ★4.76 · 1 bedroom · 2 beds...    56030  Peter & Alison   \n",
       "4  Guest suite in Vancouver · ★4.69 · 1 bedroom ·...    56709     Samantha Jo   \n",
       "\n",
       "              neighbourhood  latitude  longitude        room_type  ...  \\\n",
       "0                Riley Park  49.24773 -123.10509  Entire home/apt  ...   \n",
       "1                  West End  49.28201 -123.12669  Entire home/apt  ...   \n",
       "2  Kensington-Cedar Cottage  49.25622 -123.06607  Entire home/apt  ...   \n",
       "3  Kensington-Cedar Cottage  49.24922 -123.08139  Entire home/apt  ...   \n",
       "4         Downtown Eastside  49.27921 -123.08835  Entire home/apt  ...   \n",
       "\n",
       "   number_of_reviews  last_review  reviews_per_month  \\\n",
       "0                260   2023-06-01               1.61   \n",
       "1                454   2023-05-22               2.88   \n",
       "2                 98   2023-05-01               0.67   \n",
       "3                 34   2021-07-14               0.22   \n",
       "4                266   2023-05-25               1.64   \n",
       "\n",
       "  calculated_host_listings_count  availability_365  number_of_reviews_ltm  \\\n",
       "0                              2               150                      4   \n",
       "1                              1               247                     19   \n",
       "2                              1               121                      5   \n",
       "3                              1                 0                      0   \n",
       "4                              4               187                      7   \n",
       "\n",
       "       rental_type  price_category booking_requirement           popularity  \n",
       "0  Vacation Rental       mid-price    less than 1 week     booked half year  \n",
       "1  Vacation Rental       mid-price    less than 1 week  available half year  \n",
       "2  Vacation Rental       mid-price        over 3 weeks     booked half year  \n",
       "3  Vacation Rental       mid-price    less than 1 week              popular  \n",
       "4  Vacation Rental       low price        over 3 weeks  available half year  \n",
       "\n",
       "[5 rows x 22 columns]"
      ]
     },
     "execution_count": 5,
     "metadata": {},
     "output_type": "execute_result"
    }
   ],
   "source": [
    "df.head()"
   ]
  },
  {
   "cell_type": "markdown",
   "id": "7fe2a35b",
   "metadata": {},
   "source": [
    "## Task Step 3 - Cleaning Data"
   ]
  },
  {
   "cell_type": "code",
   "execution_count": 6,
   "id": "2fa0963c",
   "metadata": {},
   "outputs": [],
   "source": [
    "# Drop Unnamed columns\n",
    "df = df.drop(columns = ['Unnamed: 0','Unnamed: 0.1'])"
   ]
  },
  {
   "cell_type": "code",
   "execution_count": 7,
   "id": "0cc1c22c",
   "metadata": {},
   "outputs": [
    {
     "data": {
      "text/html": [
       "<div>\n",
       "<style scoped>\n",
       "    .dataframe tbody tr th:only-of-type {\n",
       "        vertical-align: middle;\n",
       "    }\n",
       "\n",
       "    .dataframe tbody tr th {\n",
       "        vertical-align: top;\n",
       "    }\n",
       "\n",
       "    .dataframe thead th {\n",
       "        text-align: right;\n",
       "    }\n",
       "</style>\n",
       "<table border=\"1\" class=\"dataframe\">\n",
       "  <thead>\n",
       "    <tr style=\"text-align: right;\">\n",
       "      <th></th>\n",
       "      <th>listing_id</th>\n",
       "      <th>listing_name</th>\n",
       "      <th>host_id</th>\n",
       "      <th>host_name</th>\n",
       "      <th>neighbourhood</th>\n",
       "      <th>latitude</th>\n",
       "      <th>longitude</th>\n",
       "      <th>room_type</th>\n",
       "      <th>price</th>\n",
       "      <th>minimum_nights</th>\n",
       "      <th>number_of_reviews</th>\n",
       "      <th>last_review</th>\n",
       "      <th>reviews_per_month</th>\n",
       "      <th>calculated_host_listings_count</th>\n",
       "      <th>availability_365</th>\n",
       "      <th>number_of_reviews_ltm</th>\n",
       "      <th>rental_type</th>\n",
       "      <th>price_category</th>\n",
       "      <th>booking_requirement</th>\n",
       "      <th>popularity</th>\n",
       "    </tr>\n",
       "  </thead>\n",
       "  <tbody>\n",
       "    <tr>\n",
       "      <th>0</th>\n",
       "      <td>13188</td>\n",
       "      <td>Rental unit in Vancouver · ★4.83 · Studio · 2 ...</td>\n",
       "      <td>51466</td>\n",
       "      <td>Family Guns</td>\n",
       "      <td>Riley Park</td>\n",
       "      <td>49.24773</td>\n",
       "      <td>-123.10509</td>\n",
       "      <td>Entire home/apt</td>\n",
       "      <td>150</td>\n",
       "      <td>3</td>\n",
       "      <td>260</td>\n",
       "      <td>2023-06-01</td>\n",
       "      <td>1.61</td>\n",
       "      <td>2</td>\n",
       "      <td>150</td>\n",
       "      <td>4</td>\n",
       "      <td>Vacation Rental</td>\n",
       "      <td>mid-price</td>\n",
       "      <td>less than 1 week</td>\n",
       "      <td>booked half year</td>\n",
       "    </tr>\n",
       "    <tr>\n",
       "      <th>1</th>\n",
       "      <td>13358</td>\n",
       "      <td>Condo in Vancouver · ★4.68 · 1 bedroom · 1 bed...</td>\n",
       "      <td>52116</td>\n",
       "      <td>Lynn</td>\n",
       "      <td>West End</td>\n",
       "      <td>49.28201</td>\n",
       "      <td>-123.12669</td>\n",
       "      <td>Entire home/apt</td>\n",
       "      <td>227</td>\n",
       "      <td>1</td>\n",
       "      <td>454</td>\n",
       "      <td>2023-05-22</td>\n",
       "      <td>2.88</td>\n",
       "      <td>1</td>\n",
       "      <td>247</td>\n",
       "      <td>19</td>\n",
       "      <td>Vacation Rental</td>\n",
       "      <td>mid-price</td>\n",
       "      <td>less than 1 week</td>\n",
       "      <td>available half year</td>\n",
       "    </tr>\n",
       "    <tr>\n",
       "      <th>2</th>\n",
       "      <td>13490</td>\n",
       "      <td>Rental unit in Vancouver · ★4.92 · 1 bedroom ·...</td>\n",
       "      <td>52467</td>\n",
       "      <td>Iris</td>\n",
       "      <td>Kensington-Cedar Cottage</td>\n",
       "      <td>49.25622</td>\n",
       "      <td>-123.06607</td>\n",
       "      <td>Entire home/apt</td>\n",
       "      <td>150</td>\n",
       "      <td>30</td>\n",
       "      <td>98</td>\n",
       "      <td>2023-05-01</td>\n",
       "      <td>0.67</td>\n",
       "      <td>1</td>\n",
       "      <td>121</td>\n",
       "      <td>5</td>\n",
       "      <td>Vacation Rental</td>\n",
       "      <td>mid-price</td>\n",
       "      <td>over 3 weeks</td>\n",
       "      <td>booked half year</td>\n",
       "    </tr>\n",
       "    <tr>\n",
       "      <th>3</th>\n",
       "      <td>14267</td>\n",
       "      <td>Home in Vancouver · ★4.76 · 1 bedroom · 2 beds...</td>\n",
       "      <td>56030</td>\n",
       "      <td>Peter &amp; Alison</td>\n",
       "      <td>Kensington-Cedar Cottage</td>\n",
       "      <td>49.24922</td>\n",
       "      <td>-123.08139</td>\n",
       "      <td>Entire home/apt</td>\n",
       "      <td>150</td>\n",
       "      <td>3</td>\n",
       "      <td>34</td>\n",
       "      <td>2021-07-14</td>\n",
       "      <td>0.22</td>\n",
       "      <td>1</td>\n",
       "      <td>0</td>\n",
       "      <td>0</td>\n",
       "      <td>Vacation Rental</td>\n",
       "      <td>mid-price</td>\n",
       "      <td>less than 1 week</td>\n",
       "      <td>popular</td>\n",
       "    </tr>\n",
       "    <tr>\n",
       "      <th>4</th>\n",
       "      <td>14424</td>\n",
       "      <td>Guest suite in Vancouver · ★4.69 · 1 bedroom ·...</td>\n",
       "      <td>56709</td>\n",
       "      <td>Samantha Jo</td>\n",
       "      <td>Downtown Eastside</td>\n",
       "      <td>49.27921</td>\n",
       "      <td>-123.08835</td>\n",
       "      <td>Entire home/apt</td>\n",
       "      <td>134</td>\n",
       "      <td>30</td>\n",
       "      <td>266</td>\n",
       "      <td>2023-05-25</td>\n",
       "      <td>1.64</td>\n",
       "      <td>4</td>\n",
       "      <td>187</td>\n",
       "      <td>7</td>\n",
       "      <td>Vacation Rental</td>\n",
       "      <td>low price</td>\n",
       "      <td>over 3 weeks</td>\n",
       "      <td>available half year</td>\n",
       "    </tr>\n",
       "  </tbody>\n",
       "</table>\n",
       "</div>"
      ],
      "text/plain": [
       "   listing_id                                       listing_name  host_id  \\\n",
       "0       13188  Rental unit in Vancouver · ★4.83 · Studio · 2 ...    51466   \n",
       "1       13358  Condo in Vancouver · ★4.68 · 1 bedroom · 1 bed...    52116   \n",
       "2       13490  Rental unit in Vancouver · ★4.92 · 1 bedroom ·...    52467   \n",
       "3       14267  Home in Vancouver · ★4.76 · 1 bedroom · 2 beds...    56030   \n",
       "4       14424  Guest suite in Vancouver · ★4.69 · 1 bedroom ·...    56709   \n",
       "\n",
       "        host_name             neighbourhood  latitude  longitude  \\\n",
       "0     Family Guns                Riley Park  49.24773 -123.10509   \n",
       "1            Lynn                  West End  49.28201 -123.12669   \n",
       "2            Iris  Kensington-Cedar Cottage  49.25622 -123.06607   \n",
       "3  Peter & Alison  Kensington-Cedar Cottage  49.24922 -123.08139   \n",
       "4     Samantha Jo         Downtown Eastside  49.27921 -123.08835   \n",
       "\n",
       "         room_type  price  minimum_nights  number_of_reviews last_review  \\\n",
       "0  Entire home/apt    150               3                260  2023-06-01   \n",
       "1  Entire home/apt    227               1                454  2023-05-22   \n",
       "2  Entire home/apt    150              30                 98  2023-05-01   \n",
       "3  Entire home/apt    150               3                 34  2021-07-14   \n",
       "4  Entire home/apt    134              30                266  2023-05-25   \n",
       "\n",
       "   reviews_per_month  calculated_host_listings_count  availability_365  \\\n",
       "0               1.61                               2               150   \n",
       "1               2.88                               1               247   \n",
       "2               0.67                               1               121   \n",
       "3               0.22                               1                 0   \n",
       "4               1.64                               4               187   \n",
       "\n",
       "   number_of_reviews_ltm      rental_type price_category booking_requirement  \\\n",
       "0                      4  Vacation Rental      mid-price    less than 1 week   \n",
       "1                     19  Vacation Rental      mid-price    less than 1 week   \n",
       "2                      5  Vacation Rental      mid-price        over 3 weeks   \n",
       "3                      0  Vacation Rental      mid-price    less than 1 week   \n",
       "4                      7  Vacation Rental      low price        over 3 weeks   \n",
       "\n",
       "            popularity  \n",
       "0     booked half year  \n",
       "1  available half year  \n",
       "2     booked half year  \n",
       "3              popular  \n",
       "4  available half year  "
      ]
     },
     "execution_count": 7,
     "metadata": {},
     "output_type": "execute_result"
    }
   ],
   "source": [
    "df.head()"
   ]
  },
  {
   "cell_type": "code",
   "execution_count": 8,
   "id": "f11d43fd",
   "metadata": {},
   "outputs": [
    {
     "data": {
      "text/plain": [
       "less than 1 week    3724\n",
       "over 3 weeks        1991\n",
       "1-3 weeks            214\n",
       "Name: booking_requirement, dtype: int64"
      ]
     },
     "execution_count": 8,
     "metadata": {},
     "output_type": "execute_result"
    }
   ],
   "source": [
    "# Checking value counts of minimum_requirements\n",
    "df['booking_requirement'].value_counts(dropna = False)"
   ]
  },
  {
   "cell_type": "code",
   "execution_count": 9,
   "id": "6b0512f0",
   "metadata": {},
   "outputs": [
    {
     "data": {
      "text/plain": [
       "(5929, 20)"
      ]
     },
     "execution_count": 9,
     "metadata": {},
     "output_type": "execute_result"
    }
   ],
   "source": [
    "df.shape"
   ]
  },
  {
   "cell_type": "markdown",
   "id": "d5760f67",
   "metadata": {},
   "source": [
    "Data cleaning to find outliers was conducted in the previous two exercises."
   ]
  },
  {
   "cell_type": "markdown",
   "id": "05b54e99",
   "metadata": {},
   "source": [
    "## Task Step 4 - Scatterplot exploration"
   ]
  },
  {
   "cell_type": "code",
   "execution_count": 10,
   "id": "7fe40e7f",
   "metadata": {},
   "outputs": [
    {
     "data": {
      "image/png": "[encoded data removed]",
      "text/plain": [
       "<Figure size 640x480 with 1 Axes>"
      ]
     },
     "metadata": {},
     "output_type": "display_data"
    }
   ],
   "source": [
    "# Scatterplot for minimum nights vs yearly availability\n",
    "df.plot(x = 'minimum_nights', y='availability_365',style='o') \n",
    "plt.title('minimum night requirement vs yearly availability')  \n",
    "plt.xlabel('minimum_nights')  \n",
    "plt.ylabel('availability_365')  \n",
    "plt.show()"
   ]
  },
  {
   "cell_type": "markdown",
   "id": "2a5d4762",
   "metadata": {},
   "source": [
    "## Task Step 5 - Hypothesis"
   ]
  },
  {
   "cell_type": "markdown",
   "id": "3a31af5e",
   "metadata": {},
   "source": [
    "If a unit has a high minimum night requirement of 3 or more weeks, then the availability of the unit will be higher than units with minimum night requirements of less than 3 weeks"
   ]
  },
  {
   "cell_type": "markdown",
   "id": "d191cd48",
   "metadata": {},
   "source": [
    "## Task Step 6 - Reshape for Analysis"
   ]
  },
  {
   "cell_type": "code",
   "execution_count": 32,
   "id": "a302d0e4",
   "metadata": {},
   "outputs": [],
   "source": [
    "# Reshape the variables into NumPy arrays and put them into separate objects\n",
    "\n",
    "X = df['minimum_nights'].values.reshape(-1,1)\n",
    "y = df['availability_365'].values.reshape(-1,1)"
   ]
  },
  {
   "cell_type": "code",
   "execution_count": 12,
   "id": "c4919262",
   "metadata": {},
   "outputs": [
    {
     "data": {
      "text/plain": [
       "array([[ 3],\n",
       "       [ 1],\n",
       "       [30],\n",
       "       ...,\n",
       "       [30],\n",
       "       [ 1],\n",
       "       [30]], dtype=int64)"
      ]
     },
     "execution_count": 12,
     "metadata": {},
     "output_type": "execute_result"
    }
   ],
   "source": [
    "X"
   ]
  },
  {
   "cell_type": "code",
   "execution_count": 13,
   "id": "840584db",
   "metadata": {},
   "outputs": [
    {
     "data": {
      "text/plain": [
       "array([[150],\n",
       "       [247],\n",
       "       [121],\n",
       "       ...,\n",
       "       [363],\n",
       "       [106],\n",
       "       [362]], dtype=int64)"
      ]
     },
     "execution_count": 13,
     "metadata": {},
     "output_type": "execute_result"
    }
   ],
   "source": [
    "y"
   ]
  },
  {
   "cell_type": "markdown",
   "id": "b8351bc5",
   "metadata": {},
   "source": [
    "## Task Step 7 - Split data into training and test sets"
   ]
  },
  {
   "cell_type": "code",
   "execution_count": 14,
   "id": "27cee11b",
   "metadata": {},
   "outputs": [],
   "source": [
    "X_train, X_test, y_train, y_test = train_test_split(X, y, test_size=0.3, random_state=0)"
   ]
  },
  {
   "cell_type": "markdown",
   "id": "dfcc0425",
   "metadata": {},
   "source": [
    "## Task Step 8 - Run linear regression "
   ]
  },
  {
   "cell_type": "code",
   "execution_count": 15,
   "id": "62152d55",
   "metadata": {},
   "outputs": [],
   "source": [
    "# Create regression object\n",
    "regression = LinearRegression()"
   ]
  },
  {
   "cell_type": "code",
   "execution_count": 16,
   "id": "23064887",
   "metadata": {},
   "outputs": [
    {
     "data": {
      "text/html": [
       "<style>#sk-container-id-1 {color: black;background-color: white;}#sk-container-id-1 pre{padding: 0;}#sk-container-id-1 div.sk-toggleable {background-color: white;}#sk-container-id-1 label.sk-toggleable__label {cursor: pointer;display: block;width: 100%;margin-bottom: 0;padding: 0.3em;box-sizing: border-box;text-align: center;}#sk-container-id-1 label.sk-toggleable__label-arrow:before {content: \"▸\";float: left;margin-right: 0.25em;color: #696969;}#sk-container-id-1 label.sk-toggleable__label-arrow:hover:before {color: black;}#sk-container-id-1 div.sk-estimator:hover label.sk-toggleable__label-arrow:before {color: black;}#sk-container-id-1 div.sk-toggleable__content {max-height: 0;max-width: 0;overflow: hidden;text-align: left;background-color: #f0f8ff;}#sk-container-id-1 div.sk-toggleable__content pre {margin: 0.2em;color: black;border-radius: 0.25em;background-color: #f0f8ff;}#sk-container-id-1 input.sk-toggleable__control:checked~div.sk-toggleable__content {max-height: 200px;max-width: 100%;overflow: auto;}#sk-container-id-1 input.sk-toggleable__control:checked~label.sk-toggleable__label-arrow:before {content: \"▾\";}#sk-container-id-1 div.sk-estimator input.sk-toggleable__control:checked~label.sk-toggleable__label {background-color: #d4ebff;}#sk-container-id-1 div.sk-label input.sk-toggleable__control:checked~label.sk-toggleable__label {background-color: #d4ebff;}#sk-container-id-1 input.sk-hidden--visually {border: 0;clip: rect(1px 1px 1px 1px);clip: rect(1px, 1px, 1px, 1px);height: 1px;margin: -1px;overflow: hidden;padding: 0;position: absolute;width: 1px;}#sk-container-id-1 div.sk-estimator {font-family: monospace;background-color: #f0f8ff;border: 1px dotted black;border-radius: 0.25em;box-sizing: border-box;margin-bottom: 0.5em;}#sk-container-id-1 div.sk-estimator:hover {background-color: #d4ebff;}#sk-container-id-1 div.sk-parallel-item::after {content: \"\";width: 100%;border-bottom: 1px solid gray;flex-grow: 1;}#sk-container-id-1 div.sk-label:hover label.sk-toggleable__label {background-color: #d4ebff;}#sk-container-id-1 div.sk-serial::before {content: \"\";position: absolute;border-left: 1px solid gray;box-sizing: border-box;top: 0;bottom: 0;left: 50%;z-index: 0;}#sk-container-id-1 div.sk-serial {display: flex;flex-direction: column;align-items: center;background-color: white;padding-right: 0.2em;padding-left: 0.2em;position: relative;}#sk-container-id-1 div.sk-item {position: relative;z-index: 1;}#sk-container-id-1 div.sk-parallel {display: flex;align-items: stretch;justify-content: center;background-color: white;position: relative;}#sk-container-id-1 div.sk-item::before, #sk-container-id-1 div.sk-parallel-item::before {content: \"\";position: absolute;border-left: 1px solid gray;box-sizing: border-box;top: 0;bottom: 0;left: 50%;z-index: -1;}#sk-container-id-1 div.sk-parallel-item {display: flex;flex-direction: column;z-index: 1;position: relative;background-color: white;}#sk-container-id-1 div.sk-parallel-item:first-child::after {align-self: flex-end;width: 50%;}#sk-container-id-1 div.sk-parallel-item:last-child::after {align-self: flex-start;width: 50%;}#sk-container-id-1 div.sk-parallel-item:only-child::after {width: 0;}#sk-container-id-1 div.sk-dashed-wrapped {border: 1px dashed gray;margin: 0 0.4em 0.5em 0.4em;box-sizing: border-box;padding-bottom: 0.4em;background-color: white;}#sk-container-id-1 div.sk-label label {font-family: monospace;font-weight: bold;display: inline-block;line-height: 1.2em;}#sk-container-id-1 div.sk-label-container {text-align: center;}#sk-container-id-1 div.sk-container {/* jupyter's `normalize.less` sets `[hidden] { display: none; }` but bootstrap.min.css set `[hidden] { display: none !important; }` so we also need the `!important` here to be able to override the default hidden behavior on the sphinx rendered scikit-learn.org. See: https://github.com/scikit-learn/scikit-learn/issues/21755 */display: inline-block !important;position: relative;}#sk-container-id-1 div.sk-text-repr-fallback {display: none;}</style><div id=\"sk-container-id-1\" class=\"sk-top-container\"><div class=\"sk-text-repr-fallback\"><pre>LinearRegression()</pre><b>In a Jupyter environment, please rerun this cell to show the HTML representation or trust the notebook. <br />On GitHub, the HTML representation is unable to render, please try loading this page with nbviewer.org.</b></div><div class=\"sk-container\" hidden><div class=\"sk-item\"><div class=\"sk-estimator sk-toggleable\"><input class=\"sk-toggleable__control sk-hidden--visually\" id=\"sk-estimator-id-1\" type=\"checkbox\" checked><label for=\"sk-estimator-id-1\" class=\"sk-toggleable__label sk-toggleable__label-arrow\">LinearRegression</label><div class=\"sk-toggleable__content\"><pre>LinearRegression()</pre></div></div></div></div></div>"
      ],
      "text/plain": [
       "LinearRegression()"
      ]
     },
     "execution_count": 16,
     "metadata": {},
     "output_type": "execute_result"
    }
   ],
   "source": [
    "# Fit regression object onto training set\n",
    "regression.fit(X_train, y_train)"
   ]
  },
  {
   "cell_type": "code",
   "execution_count": 17,
   "id": "c4936474",
   "metadata": {},
   "outputs": [],
   "source": [
    "# Predict the values of y using x\n",
    "y_predicted = regression.predict(X_test)"
   ]
  },
  {
   "cell_type": "markdown",
   "id": "70a4aa06",
   "metadata": {},
   "source": [
    "## Task Step 9 - Create plot on test set"
   ]
  },
  {
   "cell_type": "code",
   "execution_count": 18,
   "id": "6c505714",
   "metadata": {
    "scrolled": true
   },
   "outputs": [
    {
     "data": {
      "image/png": "[encoded data removed]",
      "text/plain": [
       "<Figure size 640x480 with 1 Axes>"
      ]
     },
     "metadata": {},
     "output_type": "display_data"
    }
   ],
   "source": [
    "# Create a plot that shows the regression line from the model on the test set\n",
    "plot_test = plt\n",
    "plot_test.scatter(X_test, y_test, color='gray', s = 15)\n",
    "plot_test.plot(X_test, y_predicted, color='purple', linewidth =3)\n",
    "plot_test.title('Minimum night requirement vs Availability (Test set)')\n",
    "plot_test.xlabel('minimum night requirement')\n",
    "plot_test.ylabel('availability')\n",
    "plot_test.show()"
   ]
  },
  {
   "cell_type": "markdown",
   "id": "74532340",
   "metadata": {},
   "source": [
    "## Task Step 10 - Interpretation"
   ]
  },
  {
   "cell_type": "markdown",
   "id": "64560398",
   "metadata": {},
   "source": [
    "It is clear that the line does not cover the data points in this graph. There is quite a bit of variability here, so I am not expecting very strong results from the regression analysis."
   ]
  },
  {
   "cell_type": "markdown",
   "id": "be1eee42",
   "metadata": {},
   "source": [
    "## Task Step 11 - Check model performance statistics"
   ]
  },
  {
   "cell_type": "code",
   "execution_count": 20,
   "id": "ba3403cd",
   "metadata": {},
   "outputs": [],
   "source": [
    "# Create objects that contain the model summary statistics\n",
    "\n",
    "rmse = mean_squared_error(y_test, y_predicted)\n",
    "r2 = r2_score(y_test, y_predicted)"
   ]
  },
  {
   "cell_type": "code",
   "execution_count": 21,
   "id": "d5333430",
   "metadata": {},
   "outputs": [
    {
     "name": "stdout",
     "output_type": "stream",
     "text": [
      "Slope: [[2.15183661]]\n",
      "Mean squared error:  13023.905539547422\n",
      "R2 score:  0.04597482819805743\n"
     ]
    }
   ],
   "source": [
    "# Print summary statistics\n",
    "print('Slope:' ,regression.coef_)\n",
    "print('Mean squared error: ', rmse)\n",
    "print('R2 score: ', r2)"
   ]
  },
  {
   "cell_type": "markdown",
   "id": "a5c376e4",
   "metadata": {},
   "source": [
    "As expected, the regression line isn't an accurate representation of the data, as seen in the size of the mean squared error. The R2 value is also close to zero, indicating a poor fit."
   ]
  },
  {
   "cell_type": "markdown",
   "id": "b7afc635",
   "metadata": {},
   "source": [
    "## Task Step 12 - Compare predicted y values with actual y values"
   ]
  },
  {
   "cell_type": "code",
   "execution_count": 22,
   "id": "311dd5d9",
   "metadata": {},
   "outputs": [
    {
     "data": {
      "text/plain": [
       "array([[114.07116378],\n",
       "       [114.07116378],\n",
       "       [111.91932717],\n",
       "       ...,\n",
       "       [109.76749056],\n",
       "       [170.01891562],\n",
       "       [170.01891562]])"
      ]
     },
     "execution_count": 22,
     "metadata": {},
     "output_type": "execute_result"
    }
   ],
   "source": [
    "y_predicted"
   ]
  },
  {
   "cell_type": "code",
   "execution_count": 23,
   "id": "594ff812",
   "metadata": {},
   "outputs": [],
   "source": [
    "# Create dataframe comparing the actual and predicted values of y\n",
    "\n",
    "data = pd.DataFrame({'Actual': y_test.flatten(), 'Predicted': y_predicted.flatten()})"
   ]
  },
  {
   "cell_type": "code",
   "execution_count": 24,
   "id": "724b9fbd",
   "metadata": {},
   "outputs": [
    {
     "data": {
      "text/html": [
       "<div>\n",
       "<style scoped>\n",
       "    .dataframe tbody tr th:only-of-type {\n",
       "        vertical-align: middle;\n",
       "    }\n",
       "\n",
       "    .dataframe tbody tr th {\n",
       "        vertical-align: top;\n",
       "    }\n",
       "\n",
       "    .dataframe thead th {\n",
       "        text-align: right;\n",
       "    }\n",
       "</style>\n",
       "<table border=\"1\" class=\"dataframe\">\n",
       "  <thead>\n",
       "    <tr style=\"text-align: right;\">\n",
       "      <th></th>\n",
       "      <th>Actual</th>\n",
       "      <th>Predicted</th>\n",
       "    </tr>\n",
       "  </thead>\n",
       "  <tbody>\n",
       "    <tr>\n",
       "      <th>0</th>\n",
       "      <td>357</td>\n",
       "      <td>114.071164</td>\n",
       "    </tr>\n",
       "    <tr>\n",
       "      <th>1</th>\n",
       "      <td>18</td>\n",
       "      <td>114.071164</td>\n",
       "    </tr>\n",
       "    <tr>\n",
       "      <th>2</th>\n",
       "      <td>65</td>\n",
       "      <td>111.919327</td>\n",
       "    </tr>\n",
       "    <tr>\n",
       "      <th>3</th>\n",
       "      <td>0</td>\n",
       "      <td>107.615654</td>\n",
       "    </tr>\n",
       "    <tr>\n",
       "      <th>4</th>\n",
       "      <td>48</td>\n",
       "      <td>111.919327</td>\n",
       "    </tr>\n",
       "    <tr>\n",
       "      <th>5</th>\n",
       "      <td>294</td>\n",
       "      <td>170.018916</td>\n",
       "    </tr>\n",
       "    <tr>\n",
       "      <th>6</th>\n",
       "      <td>47</td>\n",
       "      <td>109.767491</td>\n",
       "    </tr>\n",
       "    <tr>\n",
       "      <th>7</th>\n",
       "      <td>50</td>\n",
       "      <td>111.919327</td>\n",
       "    </tr>\n",
       "    <tr>\n",
       "      <th>8</th>\n",
       "      <td>171</td>\n",
       "      <td>170.018916</td>\n",
       "    </tr>\n",
       "    <tr>\n",
       "      <th>9</th>\n",
       "      <td>89</td>\n",
       "      <td>109.767491</td>\n",
       "    </tr>\n",
       "    <tr>\n",
       "      <th>10</th>\n",
       "      <td>298</td>\n",
       "      <td>170.018916</td>\n",
       "    </tr>\n",
       "    <tr>\n",
       "      <th>11</th>\n",
       "      <td>0</td>\n",
       "      <td>170.018916</td>\n",
       "    </tr>\n",
       "    <tr>\n",
       "      <th>12</th>\n",
       "      <td>0</td>\n",
       "      <td>170.018916</td>\n",
       "    </tr>\n",
       "    <tr>\n",
       "      <th>13</th>\n",
       "      <td>97</td>\n",
       "      <td>170.018916</td>\n",
       "    </tr>\n",
       "    <tr>\n",
       "      <th>14</th>\n",
       "      <td>267</td>\n",
       "      <td>116.223000</td>\n",
       "    </tr>\n",
       "    <tr>\n",
       "      <th>15</th>\n",
       "      <td>14</td>\n",
       "      <td>107.615654</td>\n",
       "    </tr>\n",
       "    <tr>\n",
       "      <th>16</th>\n",
       "      <td>216</td>\n",
       "      <td>170.018916</td>\n",
       "    </tr>\n",
       "    <tr>\n",
       "      <th>17</th>\n",
       "      <td>17</td>\n",
       "      <td>109.767491</td>\n",
       "    </tr>\n",
       "    <tr>\n",
       "      <th>18</th>\n",
       "      <td>70</td>\n",
       "      <td>135.589530</td>\n",
       "    </tr>\n",
       "    <tr>\n",
       "      <th>19</th>\n",
       "      <td>26</td>\n",
       "      <td>109.767491</td>\n",
       "    </tr>\n",
       "    <tr>\n",
       "      <th>20</th>\n",
       "      <td>184</td>\n",
       "      <td>170.018916</td>\n",
       "    </tr>\n",
       "    <tr>\n",
       "      <th>21</th>\n",
       "      <td>74</td>\n",
       "      <td>170.018916</td>\n",
       "    </tr>\n",
       "    <tr>\n",
       "      <th>22</th>\n",
       "      <td>76</td>\n",
       "      <td>170.018916</td>\n",
       "    </tr>\n",
       "    <tr>\n",
       "      <th>23</th>\n",
       "      <td>34</td>\n",
       "      <td>111.919327</td>\n",
       "    </tr>\n",
       "    <tr>\n",
       "      <th>24</th>\n",
       "      <td>232</td>\n",
       "      <td>107.615654</td>\n",
       "    </tr>\n",
       "    <tr>\n",
       "      <th>25</th>\n",
       "      <td>344</td>\n",
       "      <td>170.018916</td>\n",
       "    </tr>\n",
       "    <tr>\n",
       "      <th>26</th>\n",
       "      <td>254</td>\n",
       "      <td>107.615654</td>\n",
       "    </tr>\n",
       "    <tr>\n",
       "      <th>27</th>\n",
       "      <td>163</td>\n",
       "      <td>107.615654</td>\n",
       "    </tr>\n",
       "    <tr>\n",
       "      <th>28</th>\n",
       "      <td>253</td>\n",
       "      <td>170.018916</td>\n",
       "    </tr>\n",
       "    <tr>\n",
       "      <th>29</th>\n",
       "      <td>52</td>\n",
       "      <td>109.767491</td>\n",
       "    </tr>\n",
       "  </tbody>\n",
       "</table>\n",
       "</div>"
      ],
      "text/plain": [
       "    Actual   Predicted\n",
       "0      357  114.071164\n",
       "1       18  114.071164\n",
       "2       65  111.919327\n",
       "3        0  107.615654\n",
       "4       48  111.919327\n",
       "5      294  170.018916\n",
       "6       47  109.767491\n",
       "7       50  111.919327\n",
       "8      171  170.018916\n",
       "9       89  109.767491\n",
       "10     298  170.018916\n",
       "11       0  170.018916\n",
       "12       0  170.018916\n",
       "13      97  170.018916\n",
       "14     267  116.223000\n",
       "15      14  107.615654\n",
       "16     216  170.018916\n",
       "17      17  109.767491\n",
       "18      70  135.589530\n",
       "19      26  109.767491\n",
       "20     184  170.018916\n",
       "21      74  170.018916\n",
       "22      76  170.018916\n",
       "23      34  111.919327\n",
       "24     232  107.615654\n",
       "25     344  170.018916\n",
       "26     254  107.615654\n",
       "27     163  107.615654\n",
       "28     253  170.018916\n",
       "29      52  109.767491"
      ]
     },
     "execution_count": 24,
     "metadata": {},
     "output_type": "execute_result"
    }
   ],
   "source": [
    "data.head(30)"
   ]
  },
  {
   "cell_type": "code",
   "execution_count": 25,
   "id": "578200b9",
   "metadata": {},
   "outputs": [],
   "source": [
    "# Predict\n",
    "y_predicted_train = regression.predict(X_train)"
   ]
  },
  {
   "cell_type": "code",
   "execution_count": 26,
   "id": "1ded601c",
   "metadata": {},
   "outputs": [],
   "source": [
    "rmse = mean_squared_error(y_train, y_predicted_train)\n",
    "r2 = r2_score(y_train, y_predicted_train)"
   ]
  },
  {
   "cell_type": "code",
   "execution_count": 27,
   "id": "621868da",
   "metadata": {},
   "outputs": [
    {
     "name": "stdout",
     "output_type": "stream",
     "text": [
      "Slope: [[2.15183661]]\n",
      "Mean squared error:  12943.979454133738\n",
      "R2 score:  0.05681056666017037\n"
     ]
    }
   ],
   "source": [
    "print('Slope:' ,regression.coef_)\n",
    "print('Mean squared error: ', rmse)\n",
    "print('R2 score: ', r2)"
   ]
  },
  {
   "cell_type": "code",
   "execution_count": 28,
   "id": "bd987783",
   "metadata": {},
   "outputs": [
    {
     "data": {
      "image/png": "[encoded data removed]",
      "text/plain": [
       "<Figure size 640x480 with 1 Axes>"
      ]
     },
     "metadata": {},
     "output_type": "display_data"
    }
   ],
   "source": [
    "# Visualizing the training set results\n",
    "\n",
    "plot_train = plt\n",
    "plot_train.scatter(X_train, y_train, color='grey', s = 15)\n",
    "plot_train.plot(X_train, y_predicted_train, color='purple', linewidth =3)\n",
    "plot_train.title('minimum nights vs availability_365 (Train set)')\n",
    "plot_train.xlabel('minimum_nights')\n",
    "plot_train.ylabel('availability_365')\n",
    "plot_train.show()"
   ]
  },
  {
   "cell_type": "markdown",
   "id": "c4c89148",
   "metadata": {},
   "source": [
    "## Task Step 13 - Model performance assessment"
   ]
  },
  {
   "cell_type": "markdown",
   "id": "15e45761",
   "metadata": {},
   "source": [
    "Just from the Actual vs Predicted data alone, we can see that the model did not perform very well. We can also see this through the summary statistics of the mean squared error and R2 value - both of which indicate that the relationship can't be explained via a linear relationship. We can rule out the hypothesis that a high minimum night requirement will lead to high availability of the Airbnb unit. Part of the issue with this relationship is that there are multiple factors affecting both variables - \"Availability\" is not just defined as whether or not a unit is booked by a renter, but also if the unit owner has blocked it off for personal use. Minimum nights is also set by the unit owner and could be impacted by multiple personal decisions, so I am not overly surprised this relationship is not purely linear!"
   ]
  }
 ],
 "metadata": {
  "kernelspec": {
   "display_name": "Python 3 (ipykernel)",
   "language": "python",
   "name": "python3"
  },
  "language_info": {
   "codemirror_mode": {
    "name": "ipython",
    "version": 3
   },
   "file_extension": ".py",
   "mimetype": "text/x-python",
   "name": "python",
   "nbconvert_exporter": "python",
   "pygments_lexer": "ipython3",
   "version": "3.10.9"
  }
 },
 "nbformat": 4,
 "nbformat_minor": 5
}
